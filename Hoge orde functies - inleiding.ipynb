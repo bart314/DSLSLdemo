{
 "cells": [
  {
   "cell_type": "markdown",
   "id": "lined-dialogue",
   "metadata": {},
   "source": [
    "# Hogere orde functies in Python"
   ]
  },
  {
   "cell_type": "markdown",
   "id": "administrative-century",
   "metadata": {},
   "source": [
    "## `map`"
   ]
  },
  {
   "cell_type": "markdown",
   "id": "explicit-speech",
   "metadata": {},
   "source": [
    "De python-functie `map` heeft de volgende signature: \n",
    "\n",
    "```python\n",
    "map(func, iterable)\n",
    "```\n",
    "\n",
    "Dit houdt in dat de functie over de variabele `iterable` heen itereert en bij elke iteratie de functie `func` uitvoert op het element dat in die iteratie voorbij komt. "
   ]
  },
  {
   "cell_type": "markdown",
   "id": "lightweight-lithuania",
   "metadata": {},
   "source": [
    "In het voorbeeld hieronder definiëren we eerst een functie `demo` die een meegestuurde parameter retourneert in hoofdletters. Vervolgens maken we een *iterable* (een `list`) `l` aan met de vier nucleotiden. Tenslotte gebruiken we `map` om per element uit `l` de functie `demo` aan te roepen:\n",
    "\n",
    "```ipython\n",
    "In [1]: def demo(f):\n",
    "   ...:     return f.upper()\n",
    "   ...: \n",
    "\n",
    "In [2]: l = ['Thymine', 'Cytosine', 'Adenine', 'Guanine']\n",
    "\n",
    "In [3]: list(map(demo, l))\n",
    "Out[3]: ['THYMINE', 'CYTOSINE', 'ADENINE', 'GUANINE']\n",
    "\n",
    "In [4]: \n",
    "```"
   ]
  },
  {
   "cell_type": "markdown",
   "id": "seeing-quest",
   "metadata": {},
   "source": [
    "We kunnen hetzelfde ook bereiken door gebruik te maken van een *lambda-functie* – in dat geval definiëren we niet de functie separaat, maar alleen binnen de *scope* van de aanroep van `map`.\n",
    "\n",
    "```ipython\n",
    "In [4]: list(map(lambda x:x.upper(), l))\n",
    "Out[4]: ['THYMINE', 'CYTOSINE', 'ADENINE', 'GUANINE']\n",
    "\n",
    "In [5]: \n",
    "````\n"
   ]
  },
  {
   "cell_type": "markdown",
   "id": "stuffed-meter",
   "metadata": {},
   "source": [
    "Het is belangrijk je te realiseren dat een `map` altijd hetzelfde aantal elementen retourneert als de `iterable`."
   ]
  },
  {
   "cell_type": "markdown",
   "id": "healthy-oracle",
   "metadata": {},
   "source": [
    "## filter"
   ]
  },
  {
   "cell_type": "markdown",
   "id": "parliamentary-nowhere",
   "metadata": {},
   "source": [
    "De functie `filter` lijkt in werking wel wat op `map`. De signatures lijken dan ook erg op elkaar:\n",
    "\n",
    "```python\n",
    "filter(func, iterable)\n",
    "```\n",
    "\n",
    "Het grote verschil is dat `func` in dit geval een `bool` moet teruggeven (of een waarde die in een *boolse* context als `True` of `False` geïnterpreteerd kan worden). De functie `filter` itereert over `itareble` en roept met elk element de functie `func` aan. Als deze aanroep `True` retourneert, komt dit element terug in het resultaat."
   ]
  },
  {
   "cell_type": "markdown",
   "id": "rolled-kingdom",
   "metadata": {},
   "source": [
    "In het voorbeeld hieronder definiëren we eerst een functie `demo` die checkt of de meegestuurde parameter een 'y' bevat. Vervolgens maken we een *iterable* (een `list`) `l` aan met de vier nucleotiden. Tenslotte gebruiken we `filter` om per element uit `l` de functie `demo` aan te roepen:\n",
    "\n",
    "```ipython\n",
    "In [1]: def demo(f):\n",
    "   ...:     return 'y' in f\n",
    "   ...: \n",
    "\n",
    "In [2]: l = ['Thymine', 'Cytosine', 'Adenine', 'Guanine']\n",
    "\n",
    "In [3]: list(filter(demo, l))\n",
    "Out[3]: ['Thymine', 'Cytosine']\n",
    "\n",
    "In [4]: \n",
    "```"
   ]
  },
  {
   "cell_type": "markdown",
   "id": "superior-brand",
   "metadata": {},
   "source": [
    "Ook hier kunnen we weer hetzelfde effect sorteren door gebruik te maken van een lambda-functie:\n",
    "\n",
    "```ipython\n",
    "In [4]: list(filter(lambda x: 'y' in x, l))\n",
    "Out[4]: ['Thymine', 'Cytosine']\n",
    "\n",
    "In [5]: \n",
    "````"
   ]
  },
  {
   "cell_type": "markdown",
   "id": "coated-extent",
   "metadata": {},
   "source": [
    "Het is belangrijk op te merken dat `filter` zelf weer een iterable retourneert, met minimaal nul elementen en maximaal `len(iterable)` elementen."
   ]
  },
  {
   "cell_type": "markdown",
   "id": "trying-camcorder",
   "metadata": {},
   "source": [
    "## `reduce`"
   ]
  },
  {
   "cell_type": "markdown",
   "id": "cooperative-marker",
   "metadata": {},
   "source": [
    "De functie `reduce` *reduceert* een `iterable` tot één waarde. De signature is ook weer bijna hetzelfde:\n",
    "\n",
    "```python\n",
    "reduce(func, iterable[, initial])\n",
    "```\n",
    "\n",
    "Opnieuw wordt er over de `iterable` geïtereerd en wordt bij elk element de functie `func` aangeroepen. In dit geval wordt evenwel het resultaat van `func` gebruikt als *input* voor de volgende iteratie. De functie `func` heeft dus in de regel twee parameters; de eerste parameter is de waarde van het volgende element uit `iterable` en de tweede parameter is het *resultaat* van `func` uit de huidige iteratie.\n",
    "\n",
    "Dat verklaart dus ook direct de optionele derde parameter `initial`: dit is de waarde van de tweede parameter bij de eerste iteratie. Op dat moment is `func` nog niet aangeroepen dus kan er ook nog geen retour-waarde worden meegegeven. Als je deze parameter leeg laat, is de initiële waarde `None`."
   ]
  },
  {
   "cell_type": "markdown",
   "id": "consecutive-competition",
   "metadata": {},
   "source": [
    "Laten we opnieuw een voorbeeld bekijken. Let op dat `reduce` niet standaard beschikbaar is; hiervoor moeten we `functools` importeren.\n",
    "\n",
    "```ipython\n",
    "In [1]: def demo(x, y=None):\n",
    "   ...:     return f'{x}-{y}'\n",
    "   ...: \n",
    "\n",
    "In [2]: l = ['Thymine', 'Cytosine', 'Adenine', 'Guanine']\n",
    "\n",
    "In [3]: import functools\n",
    "\n",
    "In [4]: functools.reduce(demo,l)\n",
    "Out[4]: 'Thymine-Cytosine-Adenine-Guanine'\n",
    "\n",
    "In [5]: \n",
    "````"
   ]
  },
  {
   "cell_type": "markdown",
   "id": "lesbian-frontier",
   "metadata": {},
   "source": [
    "En ook hier kunnen we de hele boel in een lambda-functie zetten:\n",
    "\n",
    "```ipython\n",
    "In [1]: import functools\n",
    "\n",
    "In [2]: l = ['Thymine', 'Cytosine', 'Adenine', 'Guanine']\n",
    "\n",
    "In [3]: functools.reduce(lambda x,y: f'{x}-{y}', l)\n",
    "Out[3]: 'Thymine-Cytosine-Adenine-Guanine'\n",
    "\n",
    "In [4]: \n",
    "````"
   ]
  }
 ],
 "metadata": {
  "kernelspec": {
   "display_name": "Python 3",
   "language": "python",
   "name": "python3"
  },
  "language_info": {
   "codemirror_mode": {
    "name": "ipython",
    "version": 3
   },
   "file_extension": ".py",
   "mimetype": "text/x-python",
   "name": "python",
   "nbconvert_exporter": "python",
   "pygments_lexer": "ipython3",
   "version": "3.8.7"
  }
 },
 "nbformat": 4,
 "nbformat_minor": 5
}
